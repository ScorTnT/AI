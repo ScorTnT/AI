{
 "cells": [
  {
   "cell_type": "markdown",
   "id": "b2c10456",
   "metadata": {},
   "source": [
    "## NLP"
   ]
  },
  {
   "cell_type": "markdown",
   "id": "8cfb4805",
   "metadata": {},
   "source": [
    "### 영어는 보통 > nltk "
   ]
  },
  {
   "cell_type": "code",
   "execution_count": null,
   "id": "9e5cbe12",
   "metadata": {},
   "outputs": [],
   "source": [
    "import nltk \n",
    "nltk.tokenize()\n",
    "nltk.sent_tokenize()\n"
   ]
  },
  {
   "cell_type": "markdown",
   "id": "2bc702ef",
   "metadata": {},
   "source": [
    "### Keras"
   ]
  },
  {
   "cell_type": "code",
   "execution_count": null,
   "id": "310af26c",
   "metadata": {},
   "outputs": [],
   "source": [
    "from tensorflow.keras.preprocessing.text import *\n",
    "text_to_word_sequence()\n",
    "\n",
    "# make one-hot encoding from keras\n",
    "from keras.utils import to_categorical\n",
    "\n",
    "\n",
    "# text should be a indexing(int encoding) process\n",
    "# -----------------------------------------\n",
    "# int index imediately chanege to one-hot encoding\n",
    "one_hot = to_categorical([1, 2, 3, 4, 5])\n",
    "print(one_hot)\n",
    "\n",
    "# weekness of one-hot encoding\n",
    "# no relation between words\n",
    "\n",
    "# word embedding\n",
    "# -----------------------------------------\n",
    "# Word2Vec\n"
   ]
  }
 ],
 "metadata": {
  "language_info": {
   "name": "python"
  }
 },
 "nbformat": 4,
 "nbformat_minor": 5
}

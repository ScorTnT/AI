{
 "cells": [
  {
   "cell_type": "markdown",
   "id": "a1cdb53e",
   "metadata": {},
   "source": [
    "# Jena Climate – Single‑Step Temperature Forecasting with LSTM\n",
    "This notebook builds an LSTM model that predicts the temperature 1 hour ahead (i.e. 6 time‑steps) based on past climate sensor readings recorded at the Max Planck Institute for Biogeochemistry in Jena."
   ]
  },
  {
   "cell_type": "markdown",
   "id": "b601c127",
   "metadata": {},
   "source": [
    "## 1. Imports & Download"
   ]
  },
  {
   "cell_type": "code",
   "execution_count": 1,
   "id": "7a81657c",
   "metadata": {},
   "outputs": [
    {
     "name": "stderr",
     "output_type": "stream",
     "text": [
      "2025-04-27 11:29:20.166623: I tensorflow/core/util/port.cc:153] oneDNN custom operations are on. You may see slightly different numerical results due to floating-point round-off errors from different computation orders. To turn them off, set the environment variable `TF_ENABLE_ONEDNN_OPTS=0`.\n",
      "2025-04-27 11:29:20.167095: I external/local_xla/xla/tsl/cuda/cudart_stub.cc:32] Could not find cuda drivers on your machine, GPU will not be used.\n",
      "2025-04-27 11:29:20.169872: I external/local_xla/xla/tsl/cuda/cudart_stub.cc:32] Could not find cuda drivers on your machine, GPU will not be used.\n",
      "2025-04-27 11:29:20.178014: E external/local_xla/xla/stream_executor/cuda/cuda_fft.cc:467] Unable to register cuFFT factory: Attempting to register factory for plugin cuFFT when one has already been registered\n",
      "WARNING: All log messages before absl::InitializeLog() is called are written to STDERR\n",
      "E0000 00:00:1745753360.189505    9646 cuda_dnn.cc:8579] Unable to register cuDNN factory: Attempting to register factory for plugin cuDNN when one has already been registered\n",
      "E0000 00:00:1745753360.192724    9646 cuda_blas.cc:1407] Unable to register cuBLAS factory: Attempting to register factory for plugin cuBLAS when one has already been registered\n",
      "W0000 00:00:1745753360.202752    9646 computation_placer.cc:177] computation placer already registered. Please check linkage and avoid linking the same target more than once.\n",
      "W0000 00:00:1745753360.202771    9646 computation_placer.cc:177] computation placer already registered. Please check linkage and avoid linking the same target more than once.\n",
      "W0000 00:00:1745753360.202772    9646 computation_placer.cc:177] computation placer already registered. Please check linkage and avoid linking the same target more than once.\n",
      "W0000 00:00:1745753360.202772    9646 computation_placer.cc:177] computation placer already registered. Please check linkage and avoid linking the same target more than once.\n",
      "2025-04-27 11:29:20.205906: I tensorflow/core/platform/cpu_feature_guard.cc:210] This TensorFlow binary is optimized to use available CPU instructions in performance-critical operations.\n",
      "To enable the following instructions: AVX2 AVX_VNNI FMA, in other operations, rebuild TensorFlow with the appropriate compiler flags.\n"
     ]
    }
   ],
   "source": [
    "import tensorflow as tf\n",
    "import pandas as pd\n",
    "import numpy as np\n",
    "import keras, pathlib, urllib, zipfile"
   ]
  },
  {
   "cell_type": "markdown",
   "id": "9494c2ea",
   "metadata": {},
   "source": [
    "## 2. Retrieve dataset"
   ]
  },
  {
   "cell_type": "code",
   "execution_count": null,
   "id": "a201f8f7",
   "metadata": {},
   "outputs": [
    {
     "name": "stdout",
     "output_type": "stream",
     "text": [
      "Loaded: jena_climate/jena_climate_2009_2016.csv → shape: (420551, 14)\n"
     ]
    }
   ],
   "source": [
    "data_dir  = pathlib.Path(\"data/jena_climate\")\n",
    "data_dir.mkdir(exist_ok=True)\n",
    "csv_path  = data_dir / \"jena_climate_2009_2016.csv\"\n",
    "zip_path  = data_dir / \"jena_climate_2009_2016.csv.zip\"\n",
    "\n",
    "# file download if not csv_path.exists():\n",
    "if not csv_path.exists():\n",
    "    if not zip_path.exists():\n",
    "        url = \"https://storage.googleapis.com/tensorflow/tf-keras-datasets/jena_climate_2009_2016.csv.zip\"\n",
    "        print(\"Downloading Jena Climate dataset …\")\n",
    "        keras.utils.get_file(origin=url, fname=zip_path.name, cache_dir=\".\", cache_subdir=str(data_dir))\n",
    "    print(\"Extracting\", zip_path)\n",
    "    with zipfile.ZipFile(zip_path, \"r\") as zf:\n",
    "        zf.extractall(data_dir)\n",
    "    zip_path.unlink()\n",
    "\n",
    "# CSV load\n",
    "df = pd.read_csv(csv_path)\n",
    "df = df.drop(columns=[\"Date Time\"])\n",
    "print(\"Loaded:\", csv_path, \"→ shape:\", df.shape)\n"
   ]
  },
  {
   "cell_type": "markdown",
   "id": "c1fa9af3",
   "metadata": {},
   "source": [
    "## 3. Normalise"
   ]
  },
  {
   "cell_type": "code",
   "execution_count": 3,
   "id": "d3a93c25",
   "metadata": {},
   "outputs": [],
   "source": [
    "n = len(df)\n",
    "train_df = df.iloc[:int(n*0.7)]\n",
    "stats = train_df.describe().transpose()\n",
    "\n",
    "eps = 1e-6\n",
    "stats['std'] = stats['std'].replace(0, eps)   # avoid div by zero\n",
    "df_norm = (df - stats['mean']) / stats['std']\n",
    "\n",
    "# sanity check\n",
    "values = df_norm.to_numpy(dtype=np.float32)   # ← dtype 강제\n",
    "assert np.isfinite(values).all(), \"NaN/Inf present after normalisation!\""
   ]
  },
  {
   "cell_type": "markdown",
   "id": "14b9afe9",
   "metadata": {},
   "source": [
    "## 4. Build windowed datasets"
   ]
  },
  {
   "cell_type": "code",
   "execution_count": 4,
   "id": "e4852389",
   "metadata": {},
   "outputs": [
    {
     "name": "stderr",
     "output_type": "stream",
     "text": [
      "2025-04-27 11:29:22.728170: E external/local_xla/xla/stream_executor/cuda/cuda_platform.cc:51] failed call to cuInit: INTERNAL: CUDA error: Failed call to cuInit: UNKNOWN ERROR (303)\n"
     ]
    },
    {
     "name": "stdout",
     "output_type": "stream",
     "text": [
      "Batch OK: (256, 72, 14) (256, 1)\n"
     ]
    }
   ],
   "source": [
    "past_len, future_len = 72, 6\n",
    "batch_size = 256\n",
    "\n",
    "def make_ds(data):\n",
    "    ds = tf.keras.preprocessing.timeseries_dataset_from_array(\n",
    "        data=data,\n",
    "        targets=data[:,0],\n",
    "        sequence_length=past_len + future_len,\n",
    "        sequence_stride=1,\n",
    "        shuffle=True,\n",
    "        batch_size=batch_size\n",
    "    )\n",
    "    ds = ds.map(lambda x,y:(x[:,:past_len,:],\n",
    "                            tf.expand_dims(x[:,past_len+future_len-1,0],-1)))\n",
    "    return ds\n",
    "\n",
    "train_ds = make_ds(values[:int(n*0.7)])\n",
    "val_ds   = make_ds(values[int(n*0.7):int(n*0.9)])\n",
    "test_ds  = make_ds(values[int(n*0.9):])\n",
    "\n",
    "# check one batch\n",
    "bx, by = next(iter(train_ds))\n",
    "tf.debugging.assert_all_finite(bx,\"bad bx\")\n",
    "tf.debugging.assert_all_finite(by,\"bad by\")\n",
    "print(\"Batch OK:\", bx.shape, by.shape)\n"
   ]
  },
  {
   "cell_type": "markdown",
   "id": "00870e6a",
   "metadata": {},
   "source": [
    "## 5. Define LSTM model"
   ]
  },
  {
   "cell_type": "code",
   "execution_count": 5,
   "id": "e087ce40",
   "metadata": {},
   "outputs": [
    {
     "data": {
      "text/html": [
       "<pre style=\"white-space:pre;overflow-x:auto;line-height:normal;font-family:Menlo,'DejaVu Sans Mono',consolas,'Courier New',monospace\"><span style=\"font-weight: bold\">Model: \"sequential\"</span>\n",
       "</pre>\n"
      ],
      "text/plain": [
       "\u001b[1mModel: \"sequential\"\u001b[0m\n"
      ]
     },
     "metadata": {},
     "output_type": "display_data"
    },
    {
     "data": {
      "text/html": [
       "<pre style=\"white-space:pre;overflow-x:auto;line-height:normal;font-family:Menlo,'DejaVu Sans Mono',consolas,'Courier New',monospace\">┏━━━━━━━━━━━━━━━━━━━━━━━━━━━━━━━━━┳━━━━━━━━━━━━━━━━━━━━━━━━┳━━━━━━━━━━━━━━━┓\n",
       "┃<span style=\"font-weight: bold\"> Layer (type)                    </span>┃<span style=\"font-weight: bold\"> Output Shape           </span>┃<span style=\"font-weight: bold\">       Param # </span>┃\n",
       "┡━━━━━━━━━━━━━━━━━━━━━━━━━━━━━━━━━╇━━━━━━━━━━━━━━━━━━━━━━━━╇━━━━━━━━━━━━━━━┩\n",
       "│ lstm (<span style=\"color: #0087ff; text-decoration-color: #0087ff\">LSTM</span>)                     │ (<span style=\"color: #00d7ff; text-decoration-color: #00d7ff\">None</span>, <span style=\"color: #00af00; text-decoration-color: #00af00\">72</span>, <span style=\"color: #00af00; text-decoration-color: #00af00\">64</span>)         │        <span style=\"color: #00af00; text-decoration-color: #00af00\">20,224</span> │\n",
       "├─────────────────────────────────┼────────────────────────┼───────────────┤\n",
       "│ lstm_1 (<span style=\"color: #0087ff; text-decoration-color: #0087ff\">LSTM</span>)                   │ (<span style=\"color: #00d7ff; text-decoration-color: #00d7ff\">None</span>, <span style=\"color: #00af00; text-decoration-color: #00af00\">32</span>)             │        <span style=\"color: #00af00; text-decoration-color: #00af00\">12,416</span> │\n",
       "├─────────────────────────────────┼────────────────────────┼───────────────┤\n",
       "│ dense (<span style=\"color: #0087ff; text-decoration-color: #0087ff\">Dense</span>)                   │ (<span style=\"color: #00d7ff; text-decoration-color: #00d7ff\">None</span>, <span style=\"color: #00af00; text-decoration-color: #00af00\">16</span>)             │           <span style=\"color: #00af00; text-decoration-color: #00af00\">528</span> │\n",
       "├─────────────────────────────────┼────────────────────────┼───────────────┤\n",
       "│ dense_1 (<span style=\"color: #0087ff; text-decoration-color: #0087ff\">Dense</span>)                 │ (<span style=\"color: #00d7ff; text-decoration-color: #00d7ff\">None</span>, <span style=\"color: #00af00; text-decoration-color: #00af00\">1</span>)              │            <span style=\"color: #00af00; text-decoration-color: #00af00\">17</span> │\n",
       "└─────────────────────────────────┴────────────────────────┴───────────────┘\n",
       "</pre>\n"
      ],
      "text/plain": [
       "┏━━━━━━━━━━━━━━━━━━━━━━━━━━━━━━━━━┳━━━━━━━━━━━━━━━━━━━━━━━━┳━━━━━━━━━━━━━━━┓\n",
       "┃\u001b[1m \u001b[0m\u001b[1mLayer (type)                   \u001b[0m\u001b[1m \u001b[0m┃\u001b[1m \u001b[0m\u001b[1mOutput Shape          \u001b[0m\u001b[1m \u001b[0m┃\u001b[1m \u001b[0m\u001b[1m      Param #\u001b[0m\u001b[1m \u001b[0m┃\n",
       "┡━━━━━━━━━━━━━━━━━━━━━━━━━━━━━━━━━╇━━━━━━━━━━━━━━━━━━━━━━━━╇━━━━━━━━━━━━━━━┩\n",
       "│ lstm (\u001b[38;5;33mLSTM\u001b[0m)                     │ (\u001b[38;5;45mNone\u001b[0m, \u001b[38;5;34m72\u001b[0m, \u001b[38;5;34m64\u001b[0m)         │        \u001b[38;5;34m20,224\u001b[0m │\n",
       "├─────────────────────────────────┼────────────────────────┼───────────────┤\n",
       "│ lstm_1 (\u001b[38;5;33mLSTM\u001b[0m)                   │ (\u001b[38;5;45mNone\u001b[0m, \u001b[38;5;34m32\u001b[0m)             │        \u001b[38;5;34m12,416\u001b[0m │\n",
       "├─────────────────────────────────┼────────────────────────┼───────────────┤\n",
       "│ dense (\u001b[38;5;33mDense\u001b[0m)                   │ (\u001b[38;5;45mNone\u001b[0m, \u001b[38;5;34m16\u001b[0m)             │           \u001b[38;5;34m528\u001b[0m │\n",
       "├─────────────────────────────────┼────────────────────────┼───────────────┤\n",
       "│ dense_1 (\u001b[38;5;33mDense\u001b[0m)                 │ (\u001b[38;5;45mNone\u001b[0m, \u001b[38;5;34m1\u001b[0m)              │            \u001b[38;5;34m17\u001b[0m │\n",
       "└─────────────────────────────────┴────────────────────────┴───────────────┘\n"
      ]
     },
     "metadata": {},
     "output_type": "display_data"
    },
    {
     "data": {
      "text/html": [
       "<pre style=\"white-space:pre;overflow-x:auto;line-height:normal;font-family:Menlo,'DejaVu Sans Mono',consolas,'Courier New',monospace\"><span style=\"font-weight: bold\"> Total params: </span><span style=\"color: #00af00; text-decoration-color: #00af00\">33,185</span> (129.63 KB)\n",
       "</pre>\n"
      ],
      "text/plain": [
       "\u001b[1m Total params: \u001b[0m\u001b[38;5;34m33,185\u001b[0m (129.63 KB)\n"
      ]
     },
     "metadata": {},
     "output_type": "display_data"
    },
    {
     "data": {
      "text/html": [
       "<pre style=\"white-space:pre;overflow-x:auto;line-height:normal;font-family:Menlo,'DejaVu Sans Mono',consolas,'Courier New',monospace\"><span style=\"font-weight: bold\"> Trainable params: </span><span style=\"color: #00af00; text-decoration-color: #00af00\">33,185</span> (129.63 KB)\n",
       "</pre>\n"
      ],
      "text/plain": [
       "\u001b[1m Trainable params: \u001b[0m\u001b[38;5;34m33,185\u001b[0m (129.63 KB)\n"
      ]
     },
     "metadata": {},
     "output_type": "display_data"
    },
    {
     "data": {
      "text/html": [
       "<pre style=\"white-space:pre;overflow-x:auto;line-height:normal;font-family:Menlo,'DejaVu Sans Mono',consolas,'Courier New',monospace\"><span style=\"font-weight: bold\"> Non-trainable params: </span><span style=\"color: #00af00; text-decoration-color: #00af00\">0</span> (0.00 B)\n",
       "</pre>\n"
      ],
      "text/plain": [
       "\u001b[1m Non-trainable params: \u001b[0m\u001b[38;5;34m0\u001b[0m (0.00 B)\n"
      ]
     },
     "metadata": {},
     "output_type": "display_data"
    }
   ],
   "source": [
    "model = tf.keras.Sequential([\n",
    "    tf.keras.layers.Input(shape=(past_len, df.shape[1])),\n",
    "    tf.keras.layers.LSTM(64, return_sequences=True),\n",
    "    tf.keras.layers.LSTM(32),\n",
    "    tf.keras.layers.Dense(16, activation='relu'),\n",
    "    tf.keras.layers.Dense(1, activation='sigmoid')\n",
    "])\n",
    "opt = tf.keras.optimizers.Adam(1e-4, clipnorm=1.0)\n",
    "model.compile(opt, loss='mse', metrics=[tf.keras.metrics.RootMeanSquaredError()])\n",
    "model.summary()"
   ]
  },
  {
   "cell_type": "markdown",
   "id": "83306879",
   "metadata": {},
   "source": [
    "## 6. Train"
   ]
  },
  {
   "cell_type": "code",
   "execution_count": 6,
   "id": "79af08d5",
   "metadata": {},
   "outputs": [
    {
     "name": "stdout",
     "output_type": "stream",
     "text": [
      "Epoch 1/5\n",
      "\u001b[1m1150/1150\u001b[0m \u001b[32m━━━━━━━━━━━━━━━━━━━━\u001b[0m\u001b[37m\u001b[0m \u001b[1m84s\u001b[0m 72ms/step - loss: 0.7889 - root_mean_squared_error: 0.8851 - val_loss: 0.5866 - val_root_mean_squared_error: 0.7659\n",
      "Epoch 2/5\n",
      "\u001b[1m1150/1150\u001b[0m \u001b[32m━━━━━━━━━━━━━━━━━━━━\u001b[0m\u001b[37m\u001b[0m \u001b[1m81s\u001b[0m 70ms/step - loss: 0.6112 - root_mean_squared_error: 0.7818 - val_loss: 0.5831 - val_root_mean_squared_error: 0.7636\n",
      "Epoch 3/5\n",
      "\u001b[1m1150/1150\u001b[0m \u001b[32m━━━━━━━━━━━━━━━━━━━━\u001b[0m\u001b[37m\u001b[0m \u001b[1m81s\u001b[0m 70ms/step - loss: 0.6088 - root_mean_squared_error: 0.7803 - val_loss: 0.5821 - val_root_mean_squared_error: 0.7630\n",
      "Epoch 4/5\n",
      "\u001b[1m1150/1150\u001b[0m \u001b[32m━━━━━━━━━━━━━━━━━━━━\u001b[0m\u001b[37m\u001b[0m \u001b[1m78s\u001b[0m 68ms/step - loss: 0.6088 - root_mean_squared_error: 0.7803 - val_loss: 0.5817 - val_root_mean_squared_error: 0.7627\n",
      "Epoch 5/5\n",
      "\u001b[1m1150/1150\u001b[0m \u001b[32m━━━━━━━━━━━━━━━━━━━━\u001b[0m\u001b[37m\u001b[0m \u001b[1m80s\u001b[0m 69ms/step - loss: 0.6085 - root_mean_squared_error: 0.7800 - val_loss: 0.5814 - val_root_mean_squared_error: 0.7625\n"
     ]
    }
   ],
   "source": [
    "callbacks = [\n",
    "    tf.keras.callbacks.EarlyStopping(patience=5, restore_best_weights=True),\n",
    "    tf.keras.callbacks.TerminateOnNaN()\n",
    "]\n",
    "\n",
    "history = model.fit(\n",
    "    train_ds,\n",
    "    epochs=5,\n",
    "    validation_data=val_ds,\n",
    "    callbacks=callbacks\n",
    ")"
   ]
  },
  {
   "cell_type": "markdown",
   "id": "ff748070",
   "metadata": {},
   "source": [
    "## 7. Evaluate & inverse transform example predictions"
   ]
  },
  {
   "cell_type": "code",
   "execution_count": 7,
   "id": "d206be9d",
   "metadata": {},
   "outputs": [
    {
     "name": "stdout",
     "output_type": "stream",
     "text": [
      "Test RMSE (normalised): 0.600\n",
      "\u001b[1m8/8\u001b[0m \u001b[32m━━━━━━━━━━━━━━━━━━━━\u001b[0m\u001b[37m\u001b[0m \u001b[1m0s\u001b[0m 8ms/step  \n",
      "\n",
      "Pred  | True (°C)\n",
      " 17.76 |  26.85\n",
      " 17.76 |  31.40\n",
      " 12.60 |  12.87\n",
      " 17.56 |  17.79\n",
      "  9.69 |   9.46\n",
      "  9.11 |   2.97\n",
      "  9.11 |   7.85\n",
      "  9.11 |   6.23\n",
      " 11.21 |  11.76\n",
      " 17.59 |  17.65\n"
     ]
    },
    {
     "name": "stderr",
     "output_type": "stream",
     "text": [
      "2025-04-27 11:36:11.370262: I tensorflow/core/framework/local_rendezvous.cc:407] Local rendezvous is aborting with status: OUT_OF_RANGE: End of sequence\n"
     ]
    }
   ],
   "source": [
    "\n",
    "test_rmse = model.evaluate(test_ds, verbose=0)[1]\n",
    "print(f\"Test RMSE (normalised): {test_rmse:.3f}\")\n",
    "\n",
    "temp_mean, temp_std = stats.loc['T (degC)', ['mean','std']]\n",
    "for bx, by in test_ds.take(1):\n",
    "    preds = model.predict(bx)\n",
    "    print(\"\\nPred  | True (°C)\")\n",
    "    for p,t in zip(preds[:10], by[:10]):\n",
    "        print(f\"{p[0]*temp_std+temp_mean:6.2f} | {t[0]*temp_std+temp_mean:6.2f}\")\n"
   ]
  },
  {
   "cell_type": "markdown",
   "id": "35feec00",
   "metadata": {},
   "source": [
    "## 8. Model Save & Load Model "
   ]
  },
  {
   "cell_type": "code",
   "execution_count": null,
   "id": "33110c17",
   "metadata": {},
   "outputs": [],
   "source": [
    "model_dir = \"/model_/jena_climate_model.h5\"\n",
    "model.save(model_dir)\n",
    "# Load the model\n",
    "loaded_model = tf.keras.models.load_model(model_dir)\n",
    "# Check the loaded model\n",
    "loaded_model.summary()\n"
   ]
  }
 ],
 "metadata": {
  "kernelspec": {
   "display_name": "Python 3",
   "language": "python",
   "name": "python3"
  },
  "language_info": {
   "codemirror_mode": {
    "name": "ipython",
    "version": 3
   },
   "file_extension": ".py",
   "mimetype": "text/x-python",
   "name": "python",
   "nbconvert_exporter": "python",
   "pygments_lexer": "ipython3",
   "version": "3.10.17"
  }
 },
 "nbformat": 4,
 "nbformat_minor": 5
}
